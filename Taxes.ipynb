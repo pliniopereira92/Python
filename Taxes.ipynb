{
  "nbformat": 4,
  "nbformat_minor": 0,
  "metadata": {
    "colab": {
      "provenance": [],
      "authorship_tag": "ABX9TyMYwZ4x6cs1R3VyafFznEw7",
      "include_colab_link": true
    },
    "kernelspec": {
      "name": "python3",
      "display_name": "Python 3"
    },
    "language_info": {
      "name": "python"
    }
  },
  "cells": [
    {
      "cell_type": "markdown",
      "metadata": {
        "id": "view-in-github",
        "colab_type": "text"
      },
      "source": [
        "<a href=\"https://colab.research.google.com/github/pliniopereira92/Python/blob/main/Taxes.ipynb\" target=\"_parent\"><img src=\"https://colab.research.google.com/assets/colab-badge.svg\" alt=\"Open In Colab\"/></a>"
      ]
    },
    {
      "cell_type": "code",
      "execution_count": null,
      "metadata": {
        "id": "DcrRsKoLyilo"
      },
      "outputs": [],
      "source": [
        "'''Write a program that calculates income tax, based on a salary to be deducted entered by the user, according to the table described on the website ...\n",
        "https://www.mongeralaegon.com.br/blog/dinheiro/artigo/faixas-do-imposto-de-renda-qual-a-sua-aliquota-na-tabela-atualizada-do-ir\n",
        "'''\n",
        "#Entrada\n",
        "\n",
        "salary = float(input('Enter the amount to be taxed: '))\n",
        "\n",
        "#Processamento\n",
        "\n",
        "if salary < 1903.98:\n",
        "  print('You are exempt from taxation')\n",
        "if salary > 1903.99 and salary < 2826.65:\n",
        "  print('Your income tax is 7.5% and the amount will be: ', round(salary*0.075-142.80, 2))\n",
        "if salary > 2826.66 and salary < 3751.05:\n",
        "  print('Your income tax is 15% and the amount will be: ', round(salary*0.15-354.80, 2))\n",
        "if salary > 3751.06 and salary < 4664.68:\n",
        "  print('Your income tax is 22.5% and the amount will be: ', round(salary*0.225-636.13,2))\n",
        "if salary > 4664.68:\n",
        "  print('Your income tax is 27.5% and the amount will be: ', round(salary*0.275-869.36, 2))\n",
        "#O uso do round(x,y) é usado para definir o numero de casas decimais, onde x é a variavel e y o numero de casas.\n",
        "#The use of round(x,y) is used to define the number of decimal places, where x is the variable and y is the number of places.\n"
      ]
    }
  ]
}