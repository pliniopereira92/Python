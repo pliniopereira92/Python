{
  "nbformat": 4,
  "nbformat_minor": 0,
  "metadata": {
    "colab": {
      "provenance": [],
      "authorship_tag": "ABX9TyPZycyKk4Mpx5fRpsPGC7Ng",
      "include_colab_link": true
    },
    "kernelspec": {
      "name": "python3",
      "display_name": "Python 3"
    },
    "language_info": {
      "name": "python"
    }
  },
  "cells": [
    {
      "cell_type": "markdown",
      "metadata": {
        "id": "view-in-github",
        "colab_type": "text"
      },
      "source": [
        "<a href=\"https://colab.research.google.com/github/pliniopereira92/Python/blob/main/mid_letter.ipynb\" target=\"_parent\"><img src=\"https://colab.research.google.com/assets/colab-badge.svg\" alt=\"Open In Colab\"/></a>"
      ]
    },
    {
      "cell_type": "code",
      "execution_count": null,
      "metadata": {
        "id": "nSYiNFkzqI_P"
      },
      "outputs": [],
      "source": [
        "'''Create an algorithm that reads a text typed by the user and shows the middle letter. Note: Consider that the text entered will always have an odd number of letters'''\n",
        "\n",
        "#Entrada\n",
        "texto = input('Type your word: ')\n",
        "\n",
        "#Processamento\n",
        "textodividido = len(texto)//2\n",
        "\n",
        "#Saída\n",
        "print('The middle letter of your word is: ', texto[textodividido])"
      ]
    }
  ]
}