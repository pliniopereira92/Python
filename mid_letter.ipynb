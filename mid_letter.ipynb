{
  "nbformat": 4,
  "nbformat_minor": 0,
  "metadata": {
    "colab": {
      "provenance": [],
      "authorship_tag": "ABX9TyPAyWGCiZAjDJhlPHs0flaU"
    },
    "kernelspec": {
      "name": "python3",
      "display_name": "Python 3"
    },
    "language_info": {
      "name": "python"
    }
  },
  "cells": [
    {
      "cell_type": "code",
      "execution_count": null,
      "metadata": {
        "colab": {
          "base_uri": "https://localhost:8080/"
        },
        "id": "nSYiNFkzqI_P",
        "outputId": "21eae9df-a60b-476c-a1e4-e62d18b3ea19"
      },
      "outputs": [
        {
          "output_type": "stream",
          "name": "stdout",
          "text": [
            "Type your word: world\n",
            "The middle letter of your word is:  r\n"
          ]
        }
      ],
      "source": [
        "'''Create an algorithm that reads a text typed by the user and shows the middle letter. Note: Consider that the text entered will always have an odd number of letters'''\n",
        "\n",
        "#Entrada\n",
        "texto = input('Type your word: ')\n",
        "\n",
        "#Processamento\n",
        "textodividido = len(texto)//2\n",
        "\n",
        "#Saída\n",
        "print('The middle letter of your word is: ', texto[textodividido])"
      ]
    },
    {
      "cell_type": "code",
      "source": [],
      "metadata": {
        "id": "Hbv3ZVSbq63K"
      },
      "execution_count": null,
      "outputs": []
    }
  ]
}