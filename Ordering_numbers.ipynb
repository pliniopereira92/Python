{
  "nbformat": 4,
  "nbformat_minor": 0,
  "metadata": {
    "colab": {
      "provenance": [],
      "authorship_tag": "ABX9TyODvU8JQ9EebxkR4TtLSisj",
      "include_colab_link": true
    },
    "kernelspec": {
      "name": "python3",
      "display_name": "Python 3"
    },
    "language_info": {
      "name": "python"
    }
  },
  "cells": [
    {
      "cell_type": "markdown",
      "metadata": {
        "id": "view-in-github",
        "colab_type": "text"
      },
      "source": [
        "<a href=\"https://colab.research.google.com/github/pliniopereira92/Python/blob/main/Ordering_numbers.ipynb\" target=\"_parent\"><img src=\"https://colab.research.google.com/assets/colab-badge.svg\" alt=\"Open In Colab\"/></a>"
      ]
    },
    {
      "cell_type": "code",
      "execution_count": null,
      "metadata": {
        "id": "fgkwnPrvvGvE"
      },
      "outputs": [],
      "source": [
        "'''Make an algorithm that reads three different numbers and displays them in descending order'''\n",
        "\n",
        "#Entrada\n",
        "a = int(input('Type a number: '))\n",
        "b = int(input('Type a number: '))\n",
        "c = int(input('Type a number: '))\n",
        "\n",
        "#Processamento\n",
        "if (c > b):\n",
        "  aux = c\n",
        "  c = b\n",
        "  b = aux\n",
        "\n",
        "if (b > a):\n",
        "  aux = b\n",
        "  b = a\n",
        "  a = aux\n",
        "\n",
        "if (c > b):\n",
        "  aux = c\n",
        "  c = b\n",
        "  b = aux\n",
        "\n",
        "#Saída\n",
        "\n",
        "print('The descending order of the numbers is: ', a, \"-\", b,\"-\", c)"
      ]
    }
  ]
}