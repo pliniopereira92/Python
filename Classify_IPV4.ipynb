{
  "nbformat": 4,
  "nbformat_minor": 0,
  "metadata": {
    "colab": {
      "provenance": [],
      "authorship_tag": "ABX9TyMg/6aBjISD7LBRVmnZPOM7",
      "include_colab_link": true
    },
    "kernelspec": {
      "name": "python3",
      "display_name": "Python 3"
    },
    "language_info": {
      "name": "python"
    }
  },
  "cells": [
    {
      "cell_type": "markdown",
      "metadata": {
        "id": "view-in-github",
        "colab_type": "text"
      },
      "source": [
        "<a href=\"https://colab.research.google.com/github/pliniopereira92/Python/blob/main/Classify_IPV4.ipynb\" target=\"_parent\"><img src=\"https://colab.research.google.com/assets/colab-badge.svg\" alt=\"Open In Colab\"/></a>"
      ]
    },
    {
      "cell_type": "code",
      "execution_count": null,
      "metadata": {
        "id": "hf8AMJ0JuSl3"
      },
      "outputs": [],
      "source": [
        "'''Create an algorithm that reads an IPv4 and reports whether it is class A, B, C or Note: Assume that the IP entered is correct'''\n",
        "\n",
        "#entrada\n",
        "ipv4 = int(input('enter the first octet of your ipv4: '))\n",
        "\n",
        "#processamento e saida\n",
        "\n",
        "if (ipv4 < 127):\n",
        "  print('your ipv4 is Class A')\n",
        "if (127 < ipv4 < 192):\n",
        "  print('your ipv4 is Class B')\n",
        "if (ipv4 > 192 and ipv4 < 224):\n",
        "  print('your ipv4 is Class C')"
      ]
    }
  ]
}